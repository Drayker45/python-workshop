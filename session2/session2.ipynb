{
 "cells": [
  {
   "cell_type": "code",
   "execution_count": 366,
   "metadata": {},
   "outputs": [
    {
     "data": {
      "text/html": [
       "<style>.container { width:100% !important; }</style>"
      ],
      "text/plain": [
       "<IPython.core.display.HTML object>"
      ]
     },
     "metadata": {},
     "output_type": "display_data"
    }
   ],
   "source": [
    "from IPython.core.display import display, HTML\n",
    "display(HTML(\"<style>.container { width:100% !important; }</style>\"))"
   ]
  },
  {
   "cell_type": "markdown",
   "metadata": {},
   "source": [
    "# Decorators and closures"
   ]
  },
  {
   "cell_type": "markdown",
   "metadata": {},
   "source": [
    "## Closure\n",
    "> A closure is a function with an extended scope that encompasses nonglobal variables referenced in the body of the function but not defined there"
   ]
  },
  {
   "cell_type": "code",
   "execution_count": 314,
   "metadata": {},
   "outputs": [
    {
     "data": {
      "text/plain": [
       "[669006417,\n",
       " 4158894774,\n",
       " 1529527223,\n",
       " 2095963940,\n",
       " 1696410253,\n",
       " 2792375362,\n",
       " 2678414419,\n",
       " 3602631056,\n",
       " 448717449,\n",
       " 2336383630]"
      ]
     },
     "execution_count": 314,
     "metadata": {},
     "output_type": "execute_result"
    }
   ],
   "source": [
    "# implementing LCG with closure\n",
    "\n",
    "def make_lcg(m, a, c, seed):\n",
    "    x = seed\n",
    "    \n",
    "    def inner():\n",
    "        nonlocal x\n",
    "        x = (a * x + c) % m\n",
    "        return x\n",
    "    \n",
    "    return inner\n",
    "\n",
    "\n",
    "lcg = make_lcg(m=2 ** 32, a=1103515245, c=12345, seed=888)\n",
    "[lcg() for _ in range(10)]"
   ]
  },
  {
   "cell_type": "code",
   "execution_count": 315,
   "metadata": {},
   "outputs": [
    {
     "data": {
      "text/plain": [
       "()"
      ]
     },
     "execution_count": 315,
     "metadata": {},
     "output_type": "execute_result"
    }
   ],
   "source": [
    "lcg.__code__.co_varnames"
   ]
  },
  {
   "cell_type": "code",
   "execution_count": 316,
   "metadata": {},
   "outputs": [
    {
     "data": {
      "text/plain": [
       "('a', 'c', 'm', 'x')"
      ]
     },
     "execution_count": 316,
     "metadata": {},
     "output_type": "execute_result"
    }
   ],
   "source": [
    "lcg.__code__.co_freevars"
   ]
  },
  {
   "cell_type": "code",
   "execution_count": 317,
   "metadata": {},
   "outputs": [
    {
     "data": {
      "text/plain": [
       "(<cell at 0x7f5406ab9f50: int object at 0x7f5406af2d70>,\n",
       " <cell at 0x7f5406ab9950: int object at 0x7f5406ad7030>,\n",
       " <cell at 0x7f5406ab94d0: int object at 0x7f5406ad7250>,\n",
       " <cell at 0x7f5406ab91d0: int object at 0x7f5406ad7230>)"
      ]
     },
     "execution_count": 317,
     "metadata": {},
     "output_type": "execute_result"
    }
   ],
   "source": [
    "lcg.__closure__"
   ]
  },
  {
   "cell_type": "code",
   "execution_count": 318,
   "metadata": {},
   "outputs": [
    {
     "data": {
      "text/plain": [
       "[1103515245, 12345, 4294967296, 2336383630]"
      ]
     },
     "execution_count": 318,
     "metadata": {},
     "output_type": "execute_result"
    }
   ],
   "source": [
    "[cell.cell_contents for cell in lcg.__closure__]"
   ]
  },
  {
   "cell_type": "markdown",
   "metadata": {},
   "source": [
    "## Scopes\n",
    "*LEGB Rule*\n",
    "1. **Local (or function) scope** is the code block or body of any Python function or lambda expression\n",
    "1. **Enclosing (or nonlocal) scope** is a special scope that only exists for nested functions.\n",
    "1. **Global (or module) scope** is the top-most scope in a Python program, script, or module\n",
    "1. **Built-in scope** is a special Python scope that’s created or loaded whenever you run a script or open an interactive session"
   ]
  },
  {
   "cell_type": "code",
   "execution_count": 327,
   "metadata": {},
   "outputs": [],
   "source": [
    "# local\n",
    "def cube(base):\n",
    "    result = base ** 3\n",
    "    print(f'The cube of {base} is: {result}')"
   ]
  },
  {
   "cell_type": "code",
   "execution_count": 328,
   "metadata": {},
   "outputs": [
    {
     "data": {
      "text/plain": [
       "('base', 'result')"
      ]
     },
     "execution_count": 328,
     "metadata": {},
     "output_type": "execute_result"
    }
   ],
   "source": [
    "cube.__code__.co_varnames"
   ]
  },
  {
   "cell_type": "code",
   "execution_count": 329,
   "metadata": {},
   "outputs": [
    {
     "data": {
      "text/plain": [
       "1"
      ]
     },
     "execution_count": 329,
     "metadata": {},
     "output_type": "execute_result"
    }
   ],
   "source": [
    "cube.__code__.co_argcount"
   ]
  },
  {
   "cell_type": "code",
   "execution_count": 330,
   "metadata": {},
   "outputs": [
    {
     "data": {
      "text/plain": [
       "(None, 3, 'The cube of ', ' is: ')"
      ]
     },
     "execution_count": 330,
     "metadata": {},
     "output_type": "execute_result"
    }
   ],
   "source": [
    "cube.__code__.co_consts"
   ]
  },
  {
   "cell_type": "code",
   "execution_count": 366,
   "metadata": {},
   "outputs": [
    {
     "data": {
      "text/plain": [
       "'cube'"
      ]
     },
     "execution_count": 366,
     "metadata": {},
     "output_type": "execute_result"
    }
   ],
   "source": [
    "cube.__code__.co_name"
   ]
  },
  {
   "cell_type": "code",
   "execution_count": 367,
   "metadata": {},
   "outputs": [
    {
     "data": {
      "text/plain": [
       "()"
      ]
     },
     "execution_count": 367,
     "metadata": {},
     "output_type": "execute_result"
    }
   ],
   "source": [
    "cube.__code__.co_freevars"
   ]
  },
  {
   "cell_type": "code",
   "execution_count": 499,
   "metadata": {},
   "outputs": [],
   "source": [
    "# global\n",
    "dir()"
   ]
  },
  {
   "cell_type": "code",
   "execution_count": 498,
   "metadata": {},
   "outputs": [],
   "source": [
    "# built-in\n",
    "dir(__builtins__)"
   ]
  },
  {
   "cell_type": "markdown",
   "metadata": {},
   "source": [
    "## Decorator\n",
    "A callable that takes another callable as argument"
   ]
  },
  {
   "cell_type": "code",
   "execution_count": 339,
   "metadata": {},
   "outputs": [],
   "source": [
    "def logged(func):\n",
    "\n",
    "    def inner(x):\n",
    "        print(f\"Running function {func.__name__} with arguments x={x}\")\n",
    "        return func(x)\n",
    "\n",
    "    return inner"
   ]
  },
  {
   "cell_type": "code",
   "execution_count": 340,
   "metadata": {},
   "outputs": [
    {
     "name": "stdout",
     "output_type": "stream",
     "text": [
      "Running function bar with arguments x=42\n"
     ]
    },
    {
     "data": {
      "text/plain": [
       "42"
      ]
     },
     "execution_count": 340,
     "metadata": {},
     "output_type": "execute_result"
    }
   ],
   "source": [
    "def bar(x):\n",
    "    \"\"\"Returns x\"\"\"\n",
    "    return x\n",
    "\n",
    "bar = logged(bar)\n",
    "bar(42)"
   ]
  },
  {
   "cell_type": "code",
   "execution_count": 342,
   "metadata": {},
   "outputs": [
    {
     "name": "stdout",
     "output_type": "stream",
     "text": [
      "Running function bar with arguments x=42\n"
     ]
    },
    {
     "data": {
      "text/plain": [
       "42"
      ]
     },
     "execution_count": 342,
     "metadata": {},
     "output_type": "execute_result"
    }
   ],
   "source": [
    "@logged\n",
    "def bar(x):\n",
    "    return x\n",
    "\n",
    "bar(42)"
   ]
  },
  {
   "cell_type": "code",
   "execution_count": 343,
   "metadata": {},
   "outputs": [
    {
     "data": {
      "text/plain": [
       "'inner'"
      ]
     },
     "execution_count": 343,
     "metadata": {},
     "output_type": "execute_result"
    }
   ],
   "source": [
    "bar.__name__"
   ]
  },
  {
   "cell_type": "code",
   "execution_count": 340,
   "metadata": {},
   "outputs": [],
   "source": [
    "bar.__doc__"
   ]
  },
  {
   "cell_type": "markdown",
   "metadata": {},
   "source": [
    "Metadata are lost!"
   ]
  },
  {
   "cell_type": "code",
   "execution_count": 345,
   "metadata": {},
   "outputs": [
    {
     "name": "stdout",
     "output_type": "stream",
     "text": [
      "Running function bar with arguments x=42\n"
     ]
    }
   ],
   "source": [
    "import functools\n",
    "\n",
    "def logged(func):\n",
    "\n",
    "    @functools.wraps(func)\n",
    "    def inner(x):\n",
    "        print(f\"Running function {func.__name__} with arguments x={x}\")\n",
    "        func(x)\n",
    "\n",
    "    return inner\n",
    "\n",
    "\n",
    "@logged\n",
    "def bar(x):\n",
    "    \"\"\"Returns x\"\"\"\n",
    "    return x\n",
    "\n",
    "\n",
    "bar(42)"
   ]
  },
  {
   "cell_type": "code",
   "execution_count": 346,
   "metadata": {},
   "outputs": [
    {
     "data": {
      "text/plain": [
       "'Returns x'"
      ]
     },
     "execution_count": 346,
     "metadata": {},
     "output_type": "execute_result"
    }
   ],
   "source": [
    "bar.__doc__"
   ]
  },
  {
   "cell_type": "code",
   "execution_count": 347,
   "metadata": {},
   "outputs": [
    {
     "data": {
      "text/plain": [
       "'bar'"
      ]
     },
     "execution_count": 347,
     "metadata": {},
     "output_type": "execute_result"
    }
   ],
   "source": [
    "bar.__name__"
   ]
  },
  {
   "cell_type": "markdown",
   "metadata": {},
   "source": [
    "## Stacked decorators"
   ]
  },
  {
   "cell_type": "code",
   "execution_count": 348,
   "metadata": {},
   "outputs": [
    {
     "name": "stdout",
     "output_type": "stream",
     "text": [
      "Running inner with dec1\n",
      "Running bar with dec2\n",
      "calling bar\n",
      "Running inner with dec1\n",
      "Running bar with dec2\n",
      "calling bar\n"
     ]
    }
   ],
   "source": [
    "def dec1(f):\n",
    "    \n",
    "    def inner(x):\n",
    "        print(f'Running {f.__name__} with dec1')\n",
    "        return f(x)\n",
    "    \n",
    "    return inner\n",
    "\n",
    "\n",
    "def dec2(f):\n",
    "    \n",
    "    def inner(x):\n",
    "        print(f'Running {f.__name__} with dec2')\n",
    "        return f(x)\n",
    "    \n",
    "    return inner\n",
    "\n",
    "\n",
    "@dec1\n",
    "@dec2\n",
    "def bar(x):\n",
    "    print('calling bar')\n",
    "\n",
    "bar(42)\n",
    "\n",
    "\n",
    "def bar(x):\n",
    "    print('calling bar')\n",
    "\n",
    "dec1(dec2(bar))(x)"
   ]
  },
  {
   "cell_type": "markdown",
   "metadata": {},
   "source": [
    "## Parameterized decorator\n",
    "\n",
    "What if user wants to pass in the file handle where the logs will be outputed to, such as stderr?"
   ]
  },
  {
   "cell_type": "code",
   "execution_count": 375,
   "metadata": {},
   "outputs": [
    {
     "name": "stderr",
     "output_type": "stream",
     "text": [
      "Running bar with dec1\n"
     ]
    },
    {
     "data": {
      "text/plain": [
       "42"
      ]
     },
     "execution_count": 375,
     "metadata": {},
     "output_type": "execute_result"
    }
   ],
   "source": [
    "import sys\n",
    "import functools\n",
    "\n",
    "\n",
    "def logged(file=sys.stdout):\n",
    "    \n",
    "    def decorate(func):\n",
    "\n",
    "        @functools.wraps(func)\n",
    "        def inner(x):\n",
    "            print(f'Running {func.__name__} with dec1', file=file)\n",
    "            return func(x)\n",
    "    \n",
    "        return inner\n",
    "    \n",
    "    return decorate\n",
    "\n",
    "\n",
    "@logged(file=sys.stderr)\n",
    "def bar(x):\n",
    "    return x\n",
    "\n",
    "\n",
    "bar(42)"
   ]
  },
  {
   "cell_type": "code",
   "execution_count": 374,
   "metadata": {},
   "outputs": [
    {
     "name": "stderr",
     "output_type": "stream",
     "text": [
      "Running bar with dec1\n"
     ]
    },
    {
     "data": {
      "text/plain": [
       "42"
      ]
     },
     "execution_count": 374,
     "metadata": {},
     "output_type": "execute_result"
    }
   ],
   "source": [
    "# equivalently\n",
    "class Logged:\n",
    "    \n",
    "    def __init__(self, file=sys.stdout):\n",
    "        self.file = file\n",
    "        \n",
    "    def __call__(self, func):\n",
    "\n",
    "        @functools.wraps(func)\n",
    "        def inner(x):\n",
    "            print(f'Running {func.__name__} with dec1', file=self.file)\n",
    "            return func(x)\n",
    "    \n",
    "        return inner\n",
    "\n",
    "\n",
    "@Logged(file=sys.stderr)\n",
    "def bar(x):\n",
    "    return x\n",
    "\n",
    "\n",
    "bar(42)"
   ]
  },
  {
   "cell_type": "markdown",
   "metadata": {},
   "source": [
    "# Iterable, iterators and generators"
   ]
  },
  {
   "cell_type": "markdown",
   "metadata": {},
   "source": [
    "## Iterable and Iterator\n",
    "\n",
    "**Python obtains iterators from iterables.**"
   ]
  },
  {
   "cell_type": "code",
   "execution_count": 221,
   "metadata": {},
   "outputs": [
    {
     "name": "stdout",
     "output_type": "stream",
     "text": [
      "ABC\n",
      "ABC\n",
      "ABC\n"
     ]
    }
   ],
   "source": [
    "s = 'ABC'\n",
    "for char in s:\n",
    "    print(s)"
   ]
  },
  {
   "cell_type": "code",
   "execution_count": 222,
   "metadata": {},
   "outputs": [
    {
     "name": "stdout",
     "output_type": "stream",
     "text": [
      "A\n",
      "B\n",
      "C\n"
     ]
    }
   ],
   "source": [
    "s = 'ABC'\n",
    "\n",
    "it = iter(s)\n",
    "while True:\n",
    "    try:\n",
    "        print(next(it))\n",
    "    except StopIteration:\n",
    "        del it\n",
    "        break"
   ]
  },
  {
   "cell_type": "markdown",
   "metadata": {},
   "source": [
    "Interface of an iterator: \n",
    "    \n",
    "`__next__`: returns the next available item, and raise StopIteration when there are no more. \n",
    "\n",
    "`__iter__`: returns self. To be used in e.g. for loop\n",
    "\n",
    "Interface of an iterable:\n",
    "\n",
    "`__iter__`: returns an iterator. If not implemented, `__getitem__` will be used (for backward compatibility)."
   ]
  },
  {
   "cell_type": "code",
   "execution_count": 236,
   "metadata": {},
   "outputs": [
    {
     "name": "stdout",
     "output_type": "stream",
     "text": [
      "669006417\n",
      "4158894774\n",
      "1529527223\n",
      "2095963940\n",
      "1696410253\n",
      "2792375362\n"
     ]
    }
   ],
   "source": [
    "# implementing LCG with iterator\n",
    "\n",
    "class LCG:\n",
    "    \n",
    "    def __init__(self, m, a, c, seed):\n",
    "        self.m = m\n",
    "        self.a = a\n",
    "        self.c = c\n",
    "        self.x = seed\n",
    "        \n",
    "    def __iter__(self):\n",
    "        return self\n",
    "    \n",
    "    def __next__(self):\n",
    "        self.x = (self.a * self.x + self.c) % self.m\n",
    "        return self.x\n",
    "\n",
    "    \n",
    "    \n",
    "lcg = LCG(m=2 ** 32, a=1103515245, c=12345, seed=888)\n",
    "\n",
    "for i, x in enumerate(lcg):\n",
    "    if i > 5:\n",
    "        break\n",
    "    print(x)"
   ]
  },
  {
   "cell_type": "markdown",
   "metadata": {},
   "source": [
    "## Generator"
   ]
  },
  {
   "cell_type": "code",
   "execution_count": 251,
   "metadata": {},
   "outputs": [],
   "source": [
    "def gen_123():\n",
    "    yield 1\n",
    "    yield 2\n",
    "    yield 3"
   ]
  },
  {
   "cell_type": "code",
   "execution_count": 252,
   "metadata": {},
   "outputs": [
    {
     "name": "stdout",
     "output_type": "stream",
     "text": [
      "1\n",
      "2\n",
      "3\n"
     ]
    }
   ],
   "source": [
    "for i in gen_123():\n",
    "    print(i)"
   ]
  },
  {
   "cell_type": "code",
   "execution_count": 253,
   "metadata": {},
   "outputs": [
    {
     "name": "stdout",
     "output_type": "stream",
     "text": [
      "<class 'function'>\n",
      "<class 'generator'>\n",
      "1\n",
      "2\n",
      "3\n"
     ]
    },
    {
     "ename": "StopIteration",
     "evalue": "",
     "output_type": "error",
     "traceback": [
      "\u001b[0;31m---------------------------------------------------------------------------\u001b[0m",
      "\u001b[0;31mStopIteration\u001b[0m                             Traceback (most recent call last)",
      "\u001b[0;32m<ipython-input-253-ee759fa577fc>\u001b[0m in \u001b[0;36m<module>\u001b[0;34m\u001b[0m\n\u001b[1;32m      6\u001b[0m \u001b[0mprint\u001b[0m\u001b[0;34m(\u001b[0m\u001b[0mnext\u001b[0m\u001b[0;34m(\u001b[0m\u001b[0mg\u001b[0m\u001b[0;34m)\u001b[0m\u001b[0;34m)\u001b[0m\u001b[0;34m\u001b[0m\u001b[0;34m\u001b[0m\u001b[0m\n\u001b[1;32m      7\u001b[0m \u001b[0mprint\u001b[0m\u001b[0;34m(\u001b[0m\u001b[0mnext\u001b[0m\u001b[0;34m(\u001b[0m\u001b[0mg\u001b[0m\u001b[0;34m)\u001b[0m\u001b[0;34m)\u001b[0m\u001b[0;34m\u001b[0m\u001b[0;34m\u001b[0m\u001b[0m\n\u001b[0;32m----> 8\u001b[0;31m \u001b[0mprint\u001b[0m\u001b[0;34m(\u001b[0m\u001b[0mnext\u001b[0m\u001b[0;34m(\u001b[0m\u001b[0mg\u001b[0m\u001b[0;34m)\u001b[0m\u001b[0;34m)\u001b[0m\u001b[0;34m\u001b[0m\u001b[0;34m\u001b[0m\u001b[0m\n\u001b[0m",
      "\u001b[0;31mStopIteration\u001b[0m: "
     ]
    }
   ],
   "source": [
    "g = gen_123()\n",
    "print(type(gen_123))\n",
    "print(type(g))\n",
    "\n",
    "print(next(g))\n",
    "print(next(g))\n",
    "print(next(g))\n",
    "print(next(g))"
   ]
  },
  {
   "cell_type": "code",
   "execution_count": 256,
   "metadata": {},
   "outputs": [],
   "source": [
    "def gen_123():\n",
    "    print('Returning 1')\n",
    "    yield 1\n",
    "    print('Returning 2')\n",
    "    yield 2\n",
    "    print('Returning 3')\n",
    "    yield 3\n",
    "    print('Finishing up')"
   ]
  },
  {
   "cell_type": "code",
   "execution_count": 257,
   "metadata": {},
   "outputs": [],
   "source": [
    "g = gen_123()"
   ]
  },
  {
   "cell_type": "code",
   "execution_count": 258,
   "metadata": {},
   "outputs": [
    {
     "name": "stdout",
     "output_type": "stream",
     "text": [
      "Returning 1\n"
     ]
    },
    {
     "data": {
      "text/plain": [
       "1"
      ]
     },
     "execution_count": 258,
     "metadata": {},
     "output_type": "execute_result"
    }
   ],
   "source": [
    "next(g)"
   ]
  },
  {
   "cell_type": "code",
   "execution_count": 261,
   "metadata": {},
   "outputs": [
    {
     "name": "stdout",
     "output_type": "stream",
     "text": [
      "Returning 2\n"
     ]
    },
    {
     "data": {
      "text/plain": [
       "2"
      ]
     },
     "execution_count": 261,
     "metadata": {},
     "output_type": "execute_result"
    }
   ],
   "source": [
    "next(g)"
   ]
  },
  {
   "cell_type": "code",
   "execution_count": 262,
   "metadata": {},
   "outputs": [
    {
     "name": "stdout",
     "output_type": "stream",
     "text": [
      "Returning 3\n"
     ]
    },
    {
     "data": {
      "text/plain": [
       "3"
      ]
     },
     "execution_count": 262,
     "metadata": {},
     "output_type": "execute_result"
    }
   ],
   "source": [
    "next(g)"
   ]
  },
  {
   "cell_type": "code",
   "execution_count": 263,
   "metadata": {},
   "outputs": [
    {
     "name": "stdout",
     "output_type": "stream",
     "text": [
      "Finishing up\n"
     ]
    },
    {
     "ename": "StopIteration",
     "evalue": "",
     "output_type": "error",
     "traceback": [
      "\u001b[0;31m---------------------------------------------------------------------------\u001b[0m",
      "\u001b[0;31mStopIteration\u001b[0m                             Traceback (most recent call last)",
      "\u001b[0;32m<ipython-input-263-e734f8aca5ac>\u001b[0m in \u001b[0;36m<module>\u001b[0;34m\u001b[0m\n\u001b[0;32m----> 1\u001b[0;31m \u001b[0mnext\u001b[0m\u001b[0;34m(\u001b[0m\u001b[0mg\u001b[0m\u001b[0;34m)\u001b[0m\u001b[0;34m\u001b[0m\u001b[0;34m\u001b[0m\u001b[0m\n\u001b[0m",
      "\u001b[0;31mStopIteration\u001b[0m: "
     ]
    }
   ],
   "source": [
    "next(g)"
   ]
  },
  {
   "cell_type": "markdown",
   "metadata": {},
   "source": [
    "Implementing LCG with generator"
   ]
  },
  {
   "cell_type": "code",
   "execution_count": 238,
   "metadata": {},
   "outputs": [
    {
     "name": "stdout",
     "output_type": "stream",
     "text": [
      "669006417\n",
      "4158894774\n",
      "1529527223\n",
      "2095963940\n",
      "1696410253\n",
      "2792375362\n"
     ]
    }
   ],
   "source": [
    "def lcg(m, a, c, seed):\n",
    "    x = seed\n",
    "    while True:\n",
    "        x = (a * x + c) % m\n",
    "        yield x\n",
    "\n",
    "\n",
    "for i, x in enumerate(lcg(m=2 ** 32, a=1103515245, c=12345, seed=888)):\n",
    "    if i > 5:\n",
    "        break\n",
    "    print(x)"
   ]
  },
  {
   "cell_type": "markdown",
   "metadata": {},
   "source": [
    "## Generators in built-in functions"
   ]
  },
  {
   "cell_type": "code",
   "execution_count": 266,
   "metadata": {},
   "outputs": [
    {
     "name": "stdout",
     "output_type": "stream",
     "text": [
      "<zip object at 0x7f5406ab3870>\n"
     ]
    }
   ],
   "source": [
    "z = zip([1, 2, 3], ['a', 'b', 'c'])\n",
    "print(z)"
   ]
  },
  {
   "cell_type": "code",
   "execution_count": 268,
   "metadata": {},
   "outputs": [
    {
     "data": {
      "text/plain": [
       "<list_reverseiterator at 0x7f5406af43d0>"
      ]
     },
     "execution_count": 268,
     "metadata": {},
     "output_type": "execute_result"
    }
   ],
   "source": [
    "reversed([1, 2, 3])"
   ]
  },
  {
   "cell_type": "code",
   "execution_count": 269,
   "metadata": {},
   "outputs": [
    {
     "data": {
      "text/plain": [
       "<filter at 0x7f5406af4090>"
      ]
     },
     "execution_count": 269,
     "metadata": {},
     "output_type": "execute_result"
    }
   ],
   "source": [
    "filter(lambda x: x > 5, range(10))"
   ]
  },
  {
   "cell_type": "code",
   "execution_count": null,
   "metadata": {},
   "outputs": [],
   "source": []
  }
 ],
 "metadata": {
  "kernelspec": {
   "display_name": "Python 3",
   "language": "python",
   "name": "python3"
  },
  "language_info": {
   "codemirror_mode": {
    "name": "ipython",
    "version": 3
   },
   "file_extension": ".py",
   "mimetype": "text/x-python",
   "name": "python",
   "nbconvert_exporter": "python",
   "pygments_lexer": "ipython3",
   "version": "3.7.7"
  },
  "toc": {
   "base_numbering": 1,
   "nav_menu": {},
   "number_sections": true,
   "sideBar": true,
   "skip_h1_title": false,
   "title_cell": "Table of Contents",
   "title_sidebar": "Contents",
   "toc_cell": false,
   "toc_position": {
    "height": "calc(100% - 180px)",
    "left": "10px",
    "top": "150px",
    "width": "237px"
   },
   "toc_section_display": true,
   "toc_window_display": true
  },
  "varInspector": {
   "cols": {
    "lenName": 16,
    "lenType": 16,
    "lenVar": 40
   },
   "kernels_config": {
    "python": {
     "delete_cmd_postfix": "",
     "delete_cmd_prefix": "del ",
     "library": "var_list.py",
     "varRefreshCmd": "print(var_dic_list())"
    },
    "r": {
     "delete_cmd_postfix": ") ",
     "delete_cmd_prefix": "rm(",
     "library": "var_list.r",
     "varRefreshCmd": "cat(var_dic_list()) "
    }
   },
   "oldHeight": 447,
   "position": {
    "height": "40px",
    "left": "952px",
    "right": "20px",
    "top": "126px",
    "width": "315px"
   },
   "types_to_exclude": [
    "module",
    "function",
    "builtin_function_or_method",
    "instance",
    "_Feature"
   ],
   "varInspector_section_display": "none",
   "window_display": true
  }
 },
 "nbformat": 4,
 "nbformat_minor": 4
}
